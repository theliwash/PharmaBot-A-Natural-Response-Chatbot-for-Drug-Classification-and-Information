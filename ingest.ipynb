{
 "cells": [
  {
   "cell_type": "code",
   "execution_count": 1,
   "metadata": {},
   "outputs": [],
   "source": [
    "from langchain_community.embeddings import HuggingFaceEmbeddings\n",
    "from langchain_community.vectorstores import FAISS\n",
    "from langchain_community.document_loaders import CSVLoader"
   ]
  },
  {
   "cell_type": "code",
   "execution_count": 2,
   "metadata": {},
   "outputs": [],
   "source": [
    "DB_FAISS_PATH = 'vectorstore/db_faiss'"
   ]
  },
  {
   "cell_type": "code",
   "execution_count": 3,
   "metadata": {},
   "outputs": [],
   "source": [
    "def create_vector_db():\n",
    "    loader = CSVLoader(\"sampled_data.csv\",encoding='ISO-8859-1')\n",
    "    documents = loader.load()\n",
    "\n",
    "    embeddings = HuggingFaceEmbeddings(model_name='sentence-transformers/all-MiniLM-L6-v2',\n",
    "                                       model_kwargs={'device': 'cpu'})\n",
    "\n",
    "    db = FAISS.from_documents(documents, embeddings)\n",
    "    db.save_local(DB_FAISS_PATH)"
   ]
  },
  {
   "cell_type": "code",
   "execution_count": 4,
   "metadata": {},
   "outputs": [],
   "source": [
    "create_vector_db()"
   ]
  },
  {
   "cell_type": "code",
   "execution_count": 5,
   "metadata": {},
   "outputs": [],
   "source": [
    "from langchain.prompts import PromptTemplate\n",
    "from langchain.llms import GooglePalm\n",
    "from langchain.chains import RetrievalQA\n",
    "import chainlit as cl\n",
    "\n",
    "DB_FAISS_PATH = 'vectorstore/db_faiss'\n",
    "\n",
    "custom_prompt_template = \"\"\"Use the following pieces of information to answer the user's question.\n",
    "You should get the composition, strength, dosage, NLEM 22, MRP and PTR . Based on these information answer the questions.\n",
    "If you donot find the answer, then mention it as new drug.\n",
    "\n",
    "Context: {context}\n",
    "Question: {question}\n",
    "\n",
    "Only return the accurate answer below and nothing else.\n",
    "Helpful answer:\n",
    "\"\"\"\n",
    "\n",
    "def set_custom_prompt():\n",
    "    \"\"\"\n",
    "    Prompt template for QA retrieval for each vectorstore\n",
    "    \"\"\"\n",
    "    prompt = PromptTemplate(template=custom_prompt_template,\n",
    "                            input_variables=['Input','Details'])\n",
    "    return prompt\n",
    "\n",
    "#Retrieval QA Chain\n",
    "def retrieval_qa_chain(llm, prompt, db):\n",
    "    qa_chain = RetrievalQA.from_chain_type(llm=llm,\n",
    "                                       chain_type='stuff',\n",
    "                                       retriever=db.as_retriever(search_kwargs={'k': 2}),\n",
    "                                       return_source_documents=True,\n",
    "                                       chain_type_kwargs={'prompt': prompt}\n",
    "                                       )\n",
    "    return qa_chain\n",
    "\n",
    "api_key = '# get this free api key from aigoogle' \n",
    "\n",
    "def load_llm():\n",
    "    llm = GooglePalm(google_api_key=api_key, temperature=0)\n",
    "    return llm\n",
    "\n",
    "#QA Model Function\n",
    "def qa_bot():\n",
    "    embeddings = HuggingFaceEmbeddings(model_name=\"sentence-transformers/all-MiniLM-L6-v2\",\n",
    "                                       model_kwargs={'device': 'cpu'})\n",
    "    db = FAISS.load_local(DB_FAISS_PATH, embeddings, allow_dangerous_deserialization=True)\n",
    "    llm = load_llm()\n",
    "    qa_prompt = set_custom_prompt()\n",
    "    qa = retrieval_qa_chain(llm, qa_prompt, db)\n",
    "\n",
    "    return qa\n",
    "\n",
    "#output function\n",
    "def final_result(query):\n",
    "    qa_result = qa_bot()\n",
    "    response = qa_result({'query': query})\n",
    "    return response\n"
   ]
  },
  {
   "cell_type": "code",
   "execution_count": 7,
   "metadata": {},
   "outputs": [
    {
     "name": "stdout",
     "output_type": "stream",
     "text": [
      "2024-04-04 18:44:03 - Load pretrained SentenceTransformer: sentence-transformers/all-MiniLM-L6-v2\n"
     ]
    },
    {
     "name": "stderr",
     "output_type": "stream",
     "text": [
      "c:\\Users\\Admin\\anaconda3\\envs\\test_env\\lib\\site-packages\\langchain_core\\_api\\deprecation.py:117: LangChainDeprecationWarning: The function `__call__` was deprecated in LangChain 0.1.0 and will be removed in 0.2.0. Use invoke instead.\n",
      "  warn_deprecated(\n"
     ]
    },
    {
     "data": {
      "text/plain": [
       "{'query': 'is moxonidine 0.2 mg tablet a scheduled drug',\n",
       " 'result': 'Non-Scheduled',\n",
       " 'source_documents': [Document(page_content=\"Input: moxonidine 0.2 mg tablet\\nDetails: [{'Compositions': 'moxonidine', 'Strength': '0.2 mg', 'Dosage': 'tablet', 'NLEM 2022': 'Non-Scheduled', 'PTR': 56.43, 'MRP': 79.0}]\", metadata={'source': 'sampled_data.csv', 'row': 10}),\n",
       "  Document(page_content=\"Input: olmesartan + amlodipine + hydroclorthiazide 20/5/12.5 mg tablet\\nDetails: [{'Compositions': 'olmesartan + amlodipine + hydroclorthiazide', 'Strength': '20/5/12.5 mg', 'Dosage': 'tablet', 'NLEM 2022': 'Non-Scheduled', 'PTR': 99.29, 'MRP': 139.0}]\", metadata={'source': 'sampled_data.csv', 'row': 400})]}"
      ]
     },
     "execution_count": 7,
     "metadata": {},
     "output_type": "execute_result"
    }
   ],
   "source": [
    "final_result(\"is moxonidine 0.2 mg tablet a scheduled drug\")"
   ]
  },
  {
   "cell_type": "code",
   "execution_count": null,
   "metadata": {},
   "outputs": [
    {
     "name": "stdout",
     "output_type": "stream",
     "text": [
      "2024-04-04 17:15:15 - Load pretrained SentenceTransformer: sentence-transformers/all-MiniLM-L6-v2\n"
     ]
    },
    {
     "data": {
      "text/plain": [
       "{'query': 'what is the MRP of moxonidine 0.2 mg tablet',\n",
       " 'result': '79.0',\n",
       " 'source_documents': [Document(page_content=\"Input: moxonidine 0.2 mg tablet\\nDetails: [{'Compositions': 'moxonidine', 'Strength': '0.2 mg', 'Dosage': 'tablet', 'NLEM 2022': 'Non-Scheduled', 'PTR': 56.43, 'MRP': 79.0}]\", metadata={'source': 'sampled_data.csv', 'row': 10}),\n",
       "  Document(page_content=\"Input: voglibose 0.2 mg tablet md\\nDetails: [{'Compositions': 'voglibose', 'Strength': '0.2 mg', 'Dosage': 'tablet md', 'NLEM 2022': 'Non-Scheduled', 'PTR': 0.1, 'MRP': 0.12}]\", metadata={'source': 'sampled_data.csv', 'row': 849})]}"
      ]
     },
     "execution_count": 18,
     "metadata": {},
     "output_type": "execute_result"
    }
   ],
   "source": [
    "final_result(\"what is the MRP of moxonidine 0.2 mg tablet\")"
   ]
  },
  {
   "cell_type": "code",
   "execution_count": 8,
   "metadata": {},
   "outputs": [],
   "source": [
    "import ast"
   ]
  },
  {
   "cell_type": "code",
   "execution_count": 9,
   "metadata": {},
   "outputs": [],
   "source": [
    "import ast\n",
    "\n",
    "def final_result(composition, strength, dosage, manufacturer=None, pack_size=None, gst=None):\n",
    "    # Construct the query based on the composition, strength, and dosage\n",
    "    query = f'Is {composition} {strength} {dosage} scheduled?'\n",
    "\n",
    "    # Retrieve the drug info\n",
    "    qa_result = qa_bot()\n",
    "    response = qa_result({'query': query})\n",
    "\n",
    "    # Extract the required information from the response\n",
    "    page_content = response['source_documents'][0].page_content\n",
    "    details = ast.literal_eval(page_content.split(\"Details: \")[1])[0]  # Parse the string into a Python object\n",
    "    nlem_status = details.get('NLEM 2022', None)\n",
    "\n",
    "    # Check if the drug is found in the database\n",
    "    if nlem_status is None:\n",
    "        if manufacturer == 'yes':\n",
    "            return \"This is a new drug. For further details, please contact our team.\", 'New Drug'\n",
    "        else:\n",
    "            return \"This is a non-scheduled drug. Contact team for pricing details.\", 'Non-Scheduled'\n",
    "    elif nlem_status == 'Non-Scheduled':\n",
    "        mrp = details.get('MRP', 'N/A')\n",
    "        ptr = details.get('PTR', 'N/A')\n",
    "        if manufacturer == 'no':\n",
    "            response = (f\"The drug {composition} with strength {strength} and dosage {dosage} \"\n",
    "                        f\"is a non-schedule formulation (as the API {composition} is not available in the NLEM. \"\n",
    "                        f\"Its MRP is {mrp}. The MRP of non-scheduled drugs can be increased by 10% every 12 months from the date of last updated price.\")\n",
    "        elif manufacturer == 'yes':\n",
    "            response = \"This will be classified as 'new drug'. For further pricing details, please contact our team.\"\n",
    "        return response, nlem_status\n",
    "    else:\n",
    "        ceiling_price = details.get('Ceiling_price', 'N/A')\n",
    "        if pack_size is not None and gst is not None:\n",
    "            c_mrp = float(ceiling_price) * pack_size * (1 + gst/100)\n",
    "            return f\"The MRP of {composition} is {c_mrp}.\", nlem_status\n",
    "        else:\n",
    "            return f\"The drug {composition} with strength {strength} and dosage {dosage} is scheduled under NLEM with a ceiling price of {ceiling_price}.\", nlem_status\n"
   ]
  },
  {
   "cell_type": "code",
   "execution_count": 10,
   "metadata": {},
   "outputs": [],
   "source": [
    "def interactive_bot():\n",
    "    # Initialize the conversation state\n",
    "    conversation_state = {\n",
    "        'composition': None,\n",
    "        'strength': None,\n",
    "        'dosage': None,\n",
    "        'manufacturer': None,\n",
    "        'pack_size': None,\n",
    "        'gst': None,\n",
    "        'nlem_status': None,\n",
    "        'want_mrp': None\n",
    "    }\n",
    "\n",
    "    # Start the conversation\n",
    "    print('Please enter the name of the formulation:')\n",
    "    \n",
    "    while True:\n",
    "        # Get user input\n",
    "        query = input('Enter your query (or type \"quit\" to exit): ')\n",
    "\n",
    "        # Check if the user wants to quit\n",
    "        if query.lower() == 'quit':\n",
    "            break\n",
    "\n",
    "        # Check the state of the conversation to decide the next question\n",
    "        if conversation_state['composition'] is None:\n",
    "            conversation_state['composition'] = query\n",
    "            print('Please provide strength?')\n",
    "        elif conversation_state['strength'] is None:\n",
    "            conversation_state['strength'] = query\n",
    "            print('Please provide dosage?')\n",
    "        elif conversation_state['dosage'] is None:\n",
    "            conversation_state['dosage'] = query\n",
    "            response, nlem_status = final_result(conversation_state['composition'], \n",
    "                                                 conversation_state['strength'], \n",
    "                                                 conversation_state['dosage'])\n",
    "            print(response)\n",
    "            conversation_state['nlem_status'] = nlem_status\n",
    "            if nlem_status == 'Non-Scheduled':\n",
    "                print('Did you manufacture any of the combination, before 2013?')\n",
    "            elif nlem_status == 'New Drug' or nlem_status == 'Non-Scheduled':\n",
    "                # Reset the conversation state for the next query\n",
    "                conversation_state = {\n",
    "                    'composition': None,\n",
    "                    'strength': None,\n",
    "                    'dosage': None,\n",
    "                    'manufacturer': None,\n",
    "                    'pack_size': None,\n",
    "                    'gst': None,\n",
    "                    'nlem_status': None,\n",
    "                    'want_mrp': None\n",
    "                }\n",
    "                print('Please enter the name of the next formulation:')\n",
    "            else:\n",
    "                print('Do you want to know the MRP of the drug?')\n",
    "        elif conversation_state['manufacturer'] is None and conversation_state['nlem_status'] == 'Non-Scheduled':\n",
    "            conversation_state['manufacturer'] = query\n",
    "            response, nlem_status = final_result(conversation_state['composition'], \n",
    "                                                 conversation_state['strength'], \n",
    "                                                 conversation_state['dosage'],\n",
    "                                                 conversation_state['manufacturer'])\n",
    "            print(response)\n",
    "            # Reset the conversation state for the next query\n",
    "            conversation_state = {\n",
    "                'composition': None,\n",
    "                'strength': None,\n",
    "                'dosage': None,\n",
    "                'manufacturer': None,\n",
    "                'pack_size': None,\n",
    "                'gst': None,\n",
    "                'nlem_status': None,\n",
    "                'want_mrp': None\n",
    "            }\n",
    "            print('Please enter the name of the next formulation:')\n",
    "        elif conversation_state['want_mrp'] is None and conversation_state['nlem_status'] != 'Non-Scheduled':\n",
    "            conversation_state['want_mrp'] = query.lower() == 'yes'\n",
    "            if conversation_state['want_mrp']:\n",
    "                print('Please provide the pack size:')\n",
    "        elif conversation_state['pack_size'] is None and conversation_state['nlem_status'] != 'Non-Scheduled' and conversation_state['want_mrp']:\n",
    "            conversation_state['pack_size'] = float(query)\n",
    "            print('Please provide the GST percentage:')\n",
    "        elif conversation_state['gst'] is None and conversation_state['nlem_status'] != 'Non-Scheduled' and conversation_state['want_mrp']:\n",
    "            conversation_state['gst'] = float(query)\n",
    "            response, nlem_status = final_result(conversation_state['composition'], \n",
    "                                                 conversation_state['strength'], \n",
    "                                                 conversation_state['dosage'],\n",
    "                                                 conversation_state['manufacturer'],\n",
    "                                                 conversation_state['pack_size'],\n",
    "                                                 conversation_state['gst'])\n",
    "            print(response)\n",
    "            # Reset the conversation state for the next query\n",
    "            conversation_state = {\n",
    "                'composition': None,\n",
    "                'strength': None,\n",
    "                'dosage': None,\n",
    "                'manufacturer': None,\n",
    "                'pack_size': None,\n",
    "                'gst': None,\n",
    "                'nlem_status': None,\n",
    "                'want_mrp': None\n",
    "            }\n",
    "            print('Please enter the name of the next formulation:')\n",
    "\n",
    "    print(\"Goodbye!\")\n"
   ]
  },
  {
   "cell_type": "code",
   "execution_count": null,
   "metadata": {},
   "outputs": [],
   "source": [
    "interactive_bot()"
   ]
  },
  {
   "cell_type": "code",
   "execution_count": 2,
   "metadata": {},
   "outputs": [],
   "source": [
    "from dotenv import load_dotenv"
   ]
  }
 ],
 "metadata": {
  "kernelspec": {
   "display_name": "test_env",
   "language": "python",
   "name": "python3"
  },
  "language_info": {
   "codemirror_mode": {
    "name": "ipython",
    "version": 3
   },
   "file_extension": ".py",
   "mimetype": "text/x-python",
   "name": "python",
   "nbconvert_exporter": "python",
   "pygments_lexer": "ipython3",
   "version": "3.10.14"
  }
 },
 "nbformat": 4,
 "nbformat_minor": 2
}
